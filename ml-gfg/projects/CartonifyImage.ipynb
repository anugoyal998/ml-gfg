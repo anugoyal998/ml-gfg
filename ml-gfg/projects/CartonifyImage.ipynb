{
 "cells": [
  {
   "cell_type": "code",
   "execution_count": 17,
   "metadata": {},
   "outputs": [],
   "source": [
    "#import lib\n",
    "import cv2 as cv\n",
    "import numpy as np\n",
    "import matplotlib.pyplot as plt"
   ]
  },
  {
   "cell_type": "code",
   "execution_count": 18,
   "metadata": {},
   "outputs": [],
   "source": [
    "img = cv.imread('test1.jpg')"
   ]
  },
  {
   "cell_type": "code",
   "execution_count": 19,
   "metadata": {},
   "outputs": [],
   "source": [
    "rgb = cv.cvtColor(img,cv.COLOR_BGR2RGB)\n",
    "gray = cv.cvtColor(img,cv.COLOR_BGR2GRAY)\n",
    "smoothGrayScale = cv.medianBlur(gray, 5)\n",
    "getEdge = cv.adaptiveThreshold(smoothGrayScale, 255, \n",
    "  cv.ADAPTIVE_THRESH_MEAN_C, \n",
    "  cv.THRESH_BINARY, 9, 9)\n",
    "colorImage = cv.bilateralFilter(img, 9, 300, 300)\n",
    "cartoonImage = cv.bitwise_and(colorImage, colorImage, mask=getEdge)\n",
    "cv.imshow('original',img)\n",
    "cv.imshow('final',cartoonImage)"
   ]
  },
  {
   "cell_type": "code",
   "execution_count": 20,
   "metadata": {},
   "outputs": [],
   "source": [
    "cv.waitKey(0)\n",
    "cv.destroyAllWindows()"
   ]
  }
 ],
 "metadata": {
  "interpreter": {
   "hash": "08b64dc7e9099eac269fb18b5d824c195a782a2ed4ec34aad5d0bbbc3d697e62"
  },
  "kernelspec": {
   "display_name": "Python 3.8.0 64-bit",
   "language": "python",
   "name": "python3"
  },
  "language_info": {
   "codemirror_mode": {
    "name": "ipython",
    "version": 3
   },
   "file_extension": ".py",
   "mimetype": "text/x-python",
   "name": "python",
   "nbconvert_exporter": "python",
   "pygments_lexer": "ipython3",
   "version": "3.8.0"
  },
  "orig_nbformat": 4
 },
 "nbformat": 4,
 "nbformat_minor": 2
}
