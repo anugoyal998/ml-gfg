{
 "cells": [
  {
   "cell_type": "code",
   "execution_count": 1,
   "metadata": {},
   "outputs": [],
   "source": [
    "import numpy as np\n",
    "import pandas as pd\n",
    "import matplotlib.pyplot as plt"
   ]
  },
  {
   "cell_type": "code",
   "execution_count": 2,
   "metadata": {},
   "outputs": [
    {
     "data": {
      "text/plain": [
       "array([['Asset Flip', '100', '1000'],\n",
       "       ['Text Based', '500', '3000'],\n",
       "       ['Visual Novel', '1500', '5000'],\n",
       "       ['2D Pixel Art', '3500', '8000'],\n",
       "       ['2D Vector Art', '5000', '6500'],\n",
       "       ['Strategy', '6000', '7000'],\n",
       "       ['First Person Shooter', '8000', '15000'],\n",
       "       ['Simulator', '9500', '20000'],\n",
       "       ['Racing', '12000', '21000'],\n",
       "       ['RPG', '14000', '25000'],\n",
       "       ['Sandbox', '15500', '27000'],\n",
       "       ['Open-World', '16500', '30000'],\n",
       "       ['MMOFPS', '25000', '52000'],\n",
       "       ['MMORPG', '30000', '80000']], dtype='<U20')"
      ]
     },
     "execution_count": 2,
     "metadata": {},
     "output_type": "execute_result"
    }
   ],
   "source": [
    "dataset = np.array(\n",
    "[['Asset Flip', 100, 1000],\n",
    "['Text Based', 500, 3000],\n",
    "['Visual Novel', 1500, 5000],\n",
    "['2D Pixel Art', 3500, 8000],\n",
    "['2D Vector Art', 5000, 6500],\n",
    "['Strategy', 6000, 7000],\n",
    "['First Person Shooter', 8000, 15000],\n",
    "['Simulator', 9500, 20000],\n",
    "['Racing', 12000, 21000],\n",
    "['RPG', 14000, 25000],\n",
    "['Sandbox', 15500, 27000],\n",
    "['Open-World', 16500, 30000],\n",
    "['MMOFPS', 25000, 52000],\n",
    "['MMORPG', 30000, 80000]\n",
    "])\n",
    "dataset"
   ]
  },
  {
   "cell_type": "code",
   "execution_count": 3,
   "metadata": {},
   "outputs": [
    {
     "data": {
      "text/plain": [
       "array([[  100],\n",
       "       [  500],\n",
       "       [ 1500],\n",
       "       [ 3500],\n",
       "       [ 5000],\n",
       "       [ 6000],\n",
       "       [ 8000],\n",
       "       [ 9500],\n",
       "       [12000],\n",
       "       [14000],\n",
       "       [15500],\n",
       "       [16500],\n",
       "       [25000],\n",
       "       [30000]])"
      ]
     },
     "execution_count": 3,
     "metadata": {},
     "output_type": "execute_result"
    }
   ],
   "source": [
    "X = dataset[:, 1:2].astype(int) \n",
    "X"
   ]
  },
  {
   "cell_type": "code",
   "execution_count": 4,
   "metadata": {},
   "outputs": [
    {
     "data": {
      "text/plain": [
       "array([ 1000,  3000,  5000,  8000,  6500,  7000, 15000, 20000, 21000,\n",
       "       25000, 27000, 30000, 52000, 80000])"
      ]
     },
     "execution_count": 4,
     "metadata": {},
     "output_type": "execute_result"
    }
   ],
   "source": [
    "y = dataset[:, 2].astype(int) \n",
    "y"
   ]
  },
  {
   "cell_type": "code",
   "execution_count": 6,
   "metadata": {},
   "outputs": [
    {
     "data": {
      "text/plain": [
       "DecisionTreeRegressor(random_state=0)"
      ]
     },
     "execution_count": 6,
     "metadata": {},
     "output_type": "execute_result"
    }
   ],
   "source": [
    "\n",
    "# import the regressor\n",
    "from sklearn.tree import DecisionTreeRegressor \n",
    "  \n",
    "# create a regressor object\n",
    "regressor = DecisionTreeRegressor(random_state = 0) \n",
    "  \n",
    "# fit the regressor with X and Y data\n",
    "regressor.fit(X, y)"
   ]
  },
  {
   "cell_type": "code",
   "execution_count": 7,
   "metadata": {},
   "outputs": [
    {
     "data": {
      "text/plain": [
       "array([1000.])"
      ]
     },
     "execution_count": 7,
     "metadata": {},
     "output_type": "execute_result"
    }
   ],
   "source": [
    "regressor.predict([[100]])"
   ]
  },
  {
   "cell_type": "code",
   "execution_count": 8,
   "metadata": {},
   "outputs": [],
   "source": [
    "\n",
    "# arange for creating a range of values \n",
    "# from min value of X to max value of X \n",
    "# with a difference of 0.01 between two\n",
    "# consecutive values\n",
    "X_grid = np.arange(min(X), max(X), 0.01)"
   ]
  },
  {
   "cell_type": "code",
   "execution_count": 9,
   "metadata": {},
   "outputs": [],
   "source": [
    "# reshape for reshaping the data into \n",
    "# a len(X_grid)*1 array, i.e. to make\n",
    "# a column out of the X_grid values\n",
    "X_grid = X_grid.reshape((len(X_grid), 1)) "
   ]
  },
  {
   "cell_type": "code",
   "execution_count": 13,
   "metadata": {},
   "outputs": [
    {
     "data": {
      "text/plain": [
       "Text(0, 0.5, 'Profit')"
      ]
     },
     "execution_count": 13,
     "metadata": {},
     "output_type": "execute_result"
    },
    {
     "data": {
      "image/png": "[encoded data removed]",
      "text/plain": [
       "<Figure size 432x288 with 1 Axes>"
      ]
     },
     "metadata": {
      "needs_background": "light"
     },
     "output_type": "display_data"
    }
   ],
   "source": [
    "# scatter plot for original data\n",
    "plt.scatter(X, y, color = 'red')\n",
    "# plot predicted data\n",
    "plt.plot(X_grid, regressor.predict(X_grid), color = 'blue') \n",
    "# specify title\n",
    "plt.title('Profit to Production Cost (Decision Tree Regression)') \n",
    "  \n",
    "# specify X axis label\n",
    "plt.xlabel('Production Cost')\n",
    "  \n",
    "# specify Y axis label\n",
    "plt.ylabel('Profit')"
   ]
  },
  {
   "cell_type": "code",
   "execution_count": 14,
   "metadata": {},
   "outputs": [],
   "source": [
    "\n",
    "# import export_graphviz\n",
    "from sklearn.tree import export_graphviz \n",
    "  \n",
    "# export the decision tree to a tree.dot file\n",
    "# for visualizing the plot easily anywhere\n",
    "export_graphviz(regressor, out_file ='tree.dot',\n",
    "               feature_names =['Production Cost']) "
   ]
  }
 ],
 "metadata": {
  "interpreter": {
   "hash": "08b64dc7e9099eac269fb18b5d824c195a782a2ed4ec34aad5d0bbbc3d697e62"
  },
  "kernelspec": {
   "display_name": "Python 3.8.0 64-bit",
   "language": "python",
   "name": "python3"
  },
  "language_info": {
   "codemirror_mode": {
    "name": "ipython",
    "version": 3
   },
   "file_extension": ".py",
   "mimetype": "text/x-python",
   "name": "python",
   "nbconvert_exporter": "python",
   "pygments_lexer": "ipython3",
   "version": "3.8.0"
  },
  "orig_nbformat": 4
 },
 "nbformat": 4,
 "nbformat_minor": 2
}
